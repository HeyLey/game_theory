{
 "cells": [
  {
   "cell_type": "code",
   "execution_count": 2,
   "metadata": {
    "collapsed": true
   },
   "outputs": [],
   "source": [
    "import numpy as np\n",
    "\n",
    "import matplotlib\n",
    "import matplotlib.pyplot as plt\n",
    "%matplotlib inline  \n",
    "\n",
    "from IPython.core.pylabtools import figsize\n",
    "figsize(7, 7)\n",
    "\n",
    "from matplotlib.patches import Polygon\n",
    "from matplotlib.collections import PatchCollection"
   ]
  },
  {
   "cell_type": "code",
   "execution_count": 3,
   "metadata": {
    "collapsed": false
   },
   "outputs": [],
   "source": [
    "matrix = np.array([\n",
    "    [0, 1, 1, 1, 2, 1, 2, 3, 2, 3, 2],\n",
    "    [1, 0, 1, 2, 3, 2, 3, 2, 1, 2, 2],\n",
    "    [1, 1, 0, 2, 3, 2, 3, 3, 2, 2, 1],\n",
    "    [1, 2, 2, 0, 1, 2, 3, 2, 3, 4, 3],\n",
    "    [2, 3, 3, 1, 0, 3, 4, 1, 2, 3, 4],\n",
    "    [1, 2, 2, 2, 3, 0, 1, 4, 3, 4, 3],\n",
    "    [2, 3, 3, 3, 4, 1, 0, 5, 4, 5, 4],\n",
    "    [3, 2, 3, 2, 1, 4, 5, 0, 1, 2, 3],\n",
    "    [2, 1, 2, 3, 2, 3, 4, 1, 0, 1, 2],\n",
    "    [3, 2, 2, 4, 3, 4, 5, 2, 1, 0, 1],\n",
    "    [2, 2, 1, 3, 4, 3, 4, 3, 2, 1, 0]\n",
    "])"
   ]
  },
  {
   "cell_type": "code",
   "execution_count": 4,
   "metadata": {
    "collapsed": false
   },
   "outputs": [
    {
     "data": {
      "text/plain": [
       "3"
      ]
     },
     "execution_count": 4,
     "metadata": {},
     "output_type": "execute_result"
    }
   ],
   "source": [
    "# верхнее значение (цена) игры.\n",
    "min([matrix[i, :].max() for i in range(11)])"
   ]
  },
  {
   "cell_type": "code",
   "execution_count": 5,
   "metadata": {
    "collapsed": false
   },
   "outputs": [
    {
     "data": {
      "text/plain": [
       "0"
      ]
     },
     "execution_count": 5,
     "metadata": {},
     "output_type": "execute_result"
    }
   ],
   "source": [
    "# нижнее значение (цена) игры.\n",
    "max([matrix[i, :].min() for i in range(11)])"
   ]
  },
  {
   "cell_type": "code",
   "execution_count": 6,
   "metadata": {
    "collapsed": false
   },
   "outputs": [
    {
     "data": {
      "text/plain": [
       "[1, 2, 3]"
      ]
     },
     "execution_count": 6,
     "metadata": {},
     "output_type": "execute_result"
    }
   ],
   "source": [
    "# минимаксная стратегия\n",
    "[i + 1 for i in range(11) if matrix[i, :].max() == 3]"
   ]
  },
  {
   "cell_type": "code",
   "execution_count": 7,
   "metadata": {
    "collapsed": false
   },
   "outputs": [
    {
     "data": {
      "text/plain": [
       "[1, 2, 3, 4, 5, 6, 7, 8, 9, 10, 11]"
      ]
     },
     "execution_count": 7,
     "metadata": {},
     "output_type": "execute_result"
    }
   ],
   "source": [
    "# максиминная стратегия\n",
    "[i + 1 for i in range(11) if matrix[i, :].min() == 0]"
   ]
  },
  {
   "cell_type": "code",
   "execution_count": 49,
   "metadata": {
    "collapsed": false
   },
   "outputs": [],
   "source": [
    "A_ub = np.concatenate((-matrix, np.ones((11, 1))), axis=1)\n",
    "b_ub = np.zeros(11)"
   ]
  },
  {
   "cell_type": "code",
   "execution_count": 50,
   "metadata": {
    "collapsed": false
   },
   "outputs": [
    {
     "data": {
      "text/plain": [
       "array([[ 0., -1., -1., -1., -2., -1., -2., -3., -2., -3., -2.,  1.],\n",
       "       [-1.,  0., -1., -2., -3., -2., -3., -2., -1., -2., -2.,  1.],\n",
       "       [-1., -1.,  0., -2., -3., -2., -3., -3., -2., -2., -1.,  1.],\n",
       "       [-1., -2., -2.,  0., -1., -2., -3., -2., -3., -4., -3.,  1.],\n",
       "       [-2., -3., -3., -1.,  0., -3., -4., -1., -2., -3., -4.,  1.],\n",
       "       [-1., -2., -2., -2., -3.,  0., -1., -4., -3., -4., -3.,  1.],\n",
       "       [-2., -3., -3., -3., -4., -1.,  0., -5., -4., -5., -4.,  1.],\n",
       "       [-3., -2., -3., -2., -1., -4., -5.,  0., -1., -2., -3.,  1.],\n",
       "       [-2., -1., -2., -3., -2., -3., -4., -1.,  0., -1., -2.,  1.],\n",
       "       [-3., -2., -2., -4., -3., -4., -5., -2., -1.,  0., -1.,  1.],\n",
       "       [-2., -2., -1., -3., -4., -3., -4., -3., -2., -1.,  0.,  1.]])"
      ]
     },
     "execution_count": 50,
     "metadata": {},
     "output_type": "execute_result"
    }
   ],
   "source": [
    "A_ub"
   ]
  },
  {
   "cell_type": "code",
   "execution_count": 51,
   "metadata": {
    "collapsed": true
   },
   "outputs": [],
   "source": [
    "A_eq = np.ones((1, 12))\n",
    "A_eq[0, 11] = 0\n",
    "b_eq = np.ones(1)"
   ]
  },
  {
   "cell_type": "code",
   "execution_count": 52,
   "metadata": {
    "collapsed": false
   },
   "outputs": [],
   "source": [
    "c = np.zeros(12)\n",
    "c[11] = -1"
   ]
  },
  {
   "cell_type": "code",
   "execution_count": 53,
   "metadata": {
    "collapsed": false
   },
   "outputs": [
    {
     "data": {
      "text/plain": [
       "     fun: -2.5\n",
       " message: 'Optimization terminated successfully.'\n",
       "     nit: 5\n",
       "   slack: array([ 0. ,  0. ,  0.5,  0. ,  0. ,  0. ,  0. ,  0. ,  0. ,  1. ,  1. ])\n",
       "  status: 0\n",
       " success: True\n",
       "       x: array([ 0. ,  0. ,  0. ,  0. ,  0. ,  0. ,  0.5,  0.5,  0. ,  0. ,  0. ,\n",
       "        2.5])"
      ]
     },
     "execution_count": 53,
     "metadata": {},
     "output_type": "execute_result"
    }
   ],
   "source": [
    "from scipy.optimize import linprog\n",
    "\n",
    "linprog(c, A_ub=A_ub, b_ub=b_ub, A_eq=A_eq, b_eq=b_eq)"
   ]
  },
  {
   "cell_type": "code",
   "execution_count": 54,
   "metadata": {
    "collapsed": true
   },
   "outputs": [],
   "source": [
    "A_ub = np.concatenate((matrix, -np.ones((11, 1))), axis=1)\n",
    "b_ub = np.zeros(11)"
   ]
  },
  {
   "cell_type": "code",
   "execution_count": 55,
   "metadata": {
    "collapsed": true
   },
   "outputs": [],
   "source": [
    "A_eq = np.ones((1, 12))\n",
    "A_eq[0, 11] = 0\n",
    "b_eq = np.ones(1)"
   ]
  },
  {
   "cell_type": "code",
   "execution_count": 56,
   "metadata": {
    "collapsed": true
   },
   "outputs": [],
   "source": [
    "c = np.zeros(12)\n",
    "c[11] = 1"
   ]
  },
  {
   "cell_type": "code",
   "execution_count": 57,
   "metadata": {
    "collapsed": false
   },
   "outputs": [
    {
     "data": {
      "text/plain": [
       "     fun: 2.4999999999999982\n",
       " message: 'Optimization terminated successfully.'\n",
       "     nit: 21\n",
       "   slack: array([  1.00000000e+00,   1.00000000e+00,   5.00000000e-01,\n",
       "         1.33226763e-15,   0.00000000e+00,   5.00000000e-01,\n",
       "         0.00000000e+00,   1.38777878e-16,   1.00000000e+00,\n",
       "         0.00000000e+00,   1.49880108e-15])\n",
       "  status: 0\n",
       " success: True\n",
       "       x: array([ 0.25,  0.  ,  0.  ,  0.  ,  0.  ,  0.  ,  0.25,  0.  ,  0.5 ,\n",
       "        0.  ,  0.  ,  2.5 ])"
      ]
     },
     "execution_count": 57,
     "metadata": {},
     "output_type": "execute_result"
    }
   ],
   "source": [
    "linprog(c, A_ub=A_ub, b_ub=b_ub, A_eq=A_eq, b_eq=b_eq)"
   ]
  },
  {
   "cell_type": "code",
   "execution_count": null,
   "metadata": {
    "collapsed": true
   },
   "outputs": [],
   "source": [
    "# оптимальная стратегия для первого игрока \n",
    "# [0.25, 0., 0., 0.,  0., 0., 0.25,  0., 0.5, 0., 0.]\n",
    "\n",
    "# оптимальная стратегия для второго игрока \n",
    "# [0.  , 0., 0., 0.,  0., 0., 0.5,  0.5,  0., 0., 0.] \n",
    "\n",
    "# значение(цена) игры = 2.5"
   ]
  }
 ],
 "metadata": {
  "kernelspec": {
   "display_name": "Python [Root]",
   "language": "python",
   "name": "Python [Root]"
  },
  "language_info": {
   "codemirror_mode": {
    "name": "ipython",
    "version": 3
   },
   "file_extension": ".py",
   "mimetype": "text/x-python",
   "name": "python",
   "nbconvert_exporter": "python",
   "pygments_lexer": "ipython3",
   "version": "3.5.2"
  }
 },
 "nbformat": 4,
 "nbformat_minor": 2
}
