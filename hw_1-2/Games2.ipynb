{
 "cells": [
  {
   "cell_type": "code",
   "execution_count": 5,
   "metadata": {
    "collapsed": true
   },
   "outputs": [],
   "source": [
    "import numpy as np\n",
    "from scipy.optimize import minimize\n",
    "\n",
    "import matplotlib\n",
    "import matplotlib.pyplot as plt\n",
    "%matplotlib inline  "
   ]
  },
  {
   "cell_type": "code",
   "execution_count": 6,
   "metadata": {
    "collapsed": true
   },
   "outputs": [],
   "source": [
    "m = [2, 1]\n",
    "S = [[3, 1],\n",
    "     [1, 2]]\n",
    "a = [1, 1]\n"
   ]
  },
  {
   "cell_type": "code",
   "execution_count": 7,
   "metadata": {
    "collapsed": true
   },
   "outputs": [],
   "source": [
    "def exp(a):\n",
    "    return np.dot(a, m) \n",
    "\n",
    "def var(a):\n",
    "    e_r = np.dot(a, m) \n",
    "    E_xx = S + np.outer(m, m)\n",
    "    var_r = np.trace(np.dot(np.outer(a, a), E_xx)) - e_r ** 2\n",
    "    return(var_r)"
   ]
  },
  {
   "cell_type": "code",
   "execution_count": 8,
   "metadata": {
    "collapsed": false
   },
   "outputs": [
    {
     "data": {
      "image/png": "[encoded data removed]",
      "text/plain": [
       "<matplotlib.figure.Figure at 0x10fe00080>"
      ]
     },
     "metadata": {},
     "output_type": "display_data"
    }
   ],
   "source": [
    "\n",
    "e = np.zeros(1000)\n",
    "v = np.zeros(1000)\n",
    "for i in range(1000):\n",
    "    a = np.random.uniform(size=2)\n",
    "    e[i] = exp(a)\n",
    "    v[i] = var(a)\n",
    "    \n",
    "plt.xlabel(\"Exp\")\n",
    "plt.ylabel(\"Var\")\n",
    "plt.scatter(e, v, s=1)\n",
    "\n",
    "for e_min in np.arange(0.1, 3.0, 0.1):\n",
    "    x0 = np.ones(2)\n",
    "\n",
    "    cons = ({'type': 'ineq', 'fun': lambda x:  exp(x) - e_min})\n",
    "    result = minimize(var, x0, bounds = ((0.0, None), (0.0, None)), constraints=cons)\n",
    "    a = result.x\n",
    "    \n",
    "    e = exp(a)\n",
    "    v = var(a)\n",
    "    \n",
    "    plt.scatter(e, v, s=2, c='r')"
   ]
  },
  {
   "cell_type": "markdown",
   "metadata": {},
   "source": [
    "randn('state',0);\n",
    "n = 30;                                             % number of stocks\n",
    "B = 5;                                              % budget\n",
    "Beta = 0.1;                                         % fixed cost\n",
    "Alpha = 0.05*rand(n,1);                             % linear cost\n",
    "mu = linspace(0.03,0.3,30)';                        % mean return\n",
    "stddev = linspace(0,0.4,30);\n",
    "t = randn(n);\n",
    "s = t*t';\n",
    "Sigma = diag(diag(s))^(-.5)*s*s'*diag(diag(s))^(-.5);\n",
    "Sigma = diag(stddev)*Sigma*diag(stddev);            % covariance of return\n",
    "Rmin = 0.4;                                         % minimum return"
   ]
  },
  {
   "cell_type": "code",
   "execution_count": 14,
   "metadata": {
    "collapsed": false
   },
   "outputs": [],
   "source": [
    "B = 5                                              # budget\n",
    "Beta = 0.1                                         # fixed cost\n",
    "Rmin = 0.4 "
   ]
  },
  {
   "cell_type": "code",
   "execution_count": 15,
   "metadata": {
    "collapsed": true
   },
   "outputs": [],
   "source": [
    "mu =[0.030000, 0.039310, 0.048621, 0.057931, 0.067241, 0.076552, 0.085862, 0.095172, 0.104483, 0.113793, \n",
    "     0.123103, 0.132414, 0.141724, 0.151034, 0.160345, 0.169655, 0.178966, 0.188276, 0.197586, 0.206897, \n",
    "     0.216207, 0.225517, 0.234828, 0.244138, 0.253448, 0.262759, 0.272069, 0.281379, 0.290690, 0.300000]"
   ]
  },
  {
   "cell_type": "code",
   "execution_count": 20,
   "metadata": {
    "collapsed": false
   },
   "outputs": [],
   "source": [
    "import pandas as pd\n",
    "df=pd.read_csv('Sigma.txt', sep=' ',header=None)\n",
    "Sigma = df.values\n",
    "\n",
    "m = mu\n",
    "S = Sigma"
   ]
  },
  {
   "cell_type": "code",
   "execution_count": 21,
   "metadata": {
    "collapsed": true
   },
   "outputs": [],
   "source": [
    "def exp(a):\n",
    "    return np.dot(a, m) \n",
    "\n",
    "def var(a):\n",
    "    e_r = np.dot(a, m) \n",
    "    E_xx = S + np.outer(m, m)\n",
    "    var_r = np.trace(np.dot(np.outer(a, a), E_xx)) - e_r ** 2\n",
    "    return(var_r)"
   ]
  },
  {
   "cell_type": "code",
   "execution_count": 56,
   "metadata": {
    "collapsed": false
   },
   "outputs": [
    {
     "name": "stdout",
     "output_type": "stream",
     "text": [
      "1.40541568503e-07 18\n",
      "4.18794661554e-07 18\n",
      "1.08369874676e-06 18\n",
      "5.98085148387e-07 18\n",
      "2.13711613532e-07 17\n",
      "4.24555160481e-08 16\n",
      "2.29066235201e-07 16\n",
      "5.26292169855e-07 16\n",
      "2.01340915086e-07 17\n",
      "7.0337692324e-07 17\n",
      "6.86005353783e-07 17\n",
      "6.30653812653e-08 16\n",
      "2.83283347375e-07 15\n",
      "2.25423247832e-07 15\n",
      "4.83148159002e-07 15\n",
      "1.75627734451e-07 13\n",
      "3.07120478197e-08 13\n",
      "1.86514710543e-07 14\n",
      "1.01221747765e-07 14\n",
      "1.45791286317e-07 14\n",
      "4.68686659874e-07 11\n"
     ]
    }
   ],
   "source": [
    "gammas = np.array(range(21))\n",
    "\n",
    "var_arr = np.zeros(21)\n",
    "card_arr = np.zeros(21)\n",
    "\n",
    "for i, Gamma in enumerate(gammas):\n",
    "    cons = ({'type': 'ineq', 'fun': lambda x:  exp(x) - Rmin},\n",
    "        {'type': 'ineq', 'fun': lambda x:  B - (1 + Beta * Gamma) * sum(x)} )\n",
    "\n",
    "    x0 = np.ones(30)\n",
    "\n",
    "    result = minimize(var, x0, bounds = [(0.0, None)] * 30, constraints=cons)\n",
    "    x = result.x\n",
    "\n",
    "    mask = x > 1e-3\n",
    "\n",
    "    c = np.zeros(30)\n",
    "    c[mask] = 1.0\n",
    "\n",
    "    card = sum(mask)\n",
    "\n",
    "    cons = ({'type': 'ineq', 'fun': lambda x:  exp(x) - Rmin},\n",
    "            {'type': 'ineq', 'fun': lambda x:  B - (1 + Beta * card) * sum(x)} )\n",
    "\n",
    "    x0 = x\n",
    "\n",
    "    def mod_var(a):\n",
    "        return var(a*c)\n",
    "\n",
    "    result = minimize(mod_var, x0, bounds = [(0.0, None)] * 30, constraints=cons)\n",
    "    x = result.x * c\n",
    "    \n",
    "    var_arr[i] = result.fun\n",
    "    card_arr[i] = card\n",
    "    print(result.fun, card)"
   ]
  },
  {
   "cell_type": "code",
   "execution_count": 70,
   "metadata": {
    "collapsed": false
   },
   "outputs": [
    {
     "data": {
      "text/plain": [
       "(3.0712047819729529e-10, 1.1920686214305309e-06)"
      ]
     },
     "execution_count": 70,
     "metadata": {},
     "output_type": "execute_result"
    },
    {
     "data": {
      "image/png": "[encoded data removed]",
      "text/plain": [
       "<matplotlib.figure.Figure at 0x112e71438>"
      ]
     },
     "metadata": {},
     "output_type": "display_data"
    }
   ],
   "source": [
    "plt.scatter(gammas, var_arr)\n",
    "plt.ylim((min(var_arr) * 0.01, max(var_arr) * 1.1))"
   ]
  },
  {
   "cell_type": "code",
   "execution_count": 64,
   "metadata": {
    "collapsed": false
   },
   "outputs": [
    {
     "data": {
      "text/plain": [
       "<matplotlib.collections.PathCollection at 0x112c10748>"
      ]
     },
     "execution_count": 64,
     "metadata": {},
     "output_type": "execute_result"
    },
    {
     "data": {
      "image/png": "[encoded data removed]",
      "text/plain": [
       "<matplotlib.figure.Figure at 0x112c67940>"
      ]
     },
     "metadata": {},
     "output_type": "display_data"
    }
   ],
   "source": [
    "plt.scatter(gammas, card_arr)"
   ]
  },
  {
   "cell_type": "code",
   "execution_count": null,
   "metadata": {
    "collapsed": true
   },
   "outputs": [],
   "source": []
  }
 ],
 "metadata": {
  "kernelspec": {
   "display_name": "Python [Root]",
   "language": "python",
   "name": "Python [Root]"
  },
  "language_info": {
   "codemirror_mode": {
    "name": "ipython",
    "version": 3
   },
   "file_extension": ".py",
   "mimetype": "text/x-python",
   "name": "python",
   "nbconvert_exporter": "python",
   "pygments_lexer": "ipython3",
   "version": "3.5.2"
  }
 },
 "nbformat": 4,
 "nbformat_minor": 2
}
