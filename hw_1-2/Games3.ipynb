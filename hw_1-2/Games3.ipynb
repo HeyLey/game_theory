{
 "cells": [
  {
   "cell_type": "code",
   "execution_count": 17,
   "metadata": {
    "collapsed": true
   },
   "outputs": [],
   "source": [
    "import numpy as np\n",
    "\n",
    "import matplotlib\n",
    "import matplotlib.pyplot as plt\n",
    "%matplotlib inline  "
   ]
  },
  {
   "cell_type": "code",
   "execution_count": 36,
   "metadata": {
    "collapsed": false
   },
   "outputs": [
    {
     "name": "stdout",
     "output_type": "stream",
     "text": [
      "\n",
      "ECOS 2.0.4 - (C) embotech GmbH, Zurich Switzerland, 2012-15. Web: www.embotech.com/ECOS\n",
      "\n",
      "It     pcost       dcost      gap   pres   dres    k/t    mu     step   sigma     IR    |   BT\n",
      " 0  -1.239e+01  -1.432e+02  +1e+02  5e-04  4e-09  1e+00  6e+00    ---    ---    1  1  - |  -  - \n",
      " 1  -1.548e+01  -3.258e+01  +2e+01  7e-05  8e-08  1e-01  8e-01  0.8718  3e-03   0  0  0 |  0  0\n",
      " 2  -2.180e+01  -2.769e+01  +6e+00  2e-05  2e-07  8e-02  3e-01  0.6955  6e-02   0  0  0 |  0  0\n",
      " 3  -2.285e+01  -2.407e+01  +1e+00  4e-06  6e-08  3e-02  6e-02  0.8731  1e-01   0  0  0 |  0  0\n",
      " 4  -2.299e+01  -2.302e+01  +3e-02  1e-07  4e-09  9e-04  1e-03  0.9820  6e-03   1  0  0 |  0  0\n",
      " 5  -2.300e+01  -2.300e+01  +3e-04  1e-09  2e-10  1e-05  2e-05  0.9890  1e-04   1  0  0 |  0  0\n",
      " 6  -2.300e+01  -2.300e+01  +4e-06  1e-11  3e-12  1e-07  2e-07  0.9890  1e-04   1  0  0 |  0  0\n",
      " 7  -2.300e+01  -2.300e+01  +4e-08  1e-13  8e-13  1e-09  2e-09  0.9890  1e-04   1  0  0 |  0  0\n",
      "\n",
      "OPTIMAL (within feastol=7.8e-13, reltol=1.7e-09, abstol=3.9e-08).\n",
      "Runtime: 0.000679 seconds.\n",
      "\n"
     ]
    },
    {
     "data": {
      "text/plain": [
       "22.99999999195162"
      ]
     },
     "execution_count": 36,
     "metadata": {},
     "output_type": "execute_result"
    }
   ],
   "source": [
    "scipy.optimize.linprogimport numpy as np\n",
    "\n",
    "A = [[1,0,-1,1,-1,0,0,0,0,0],\n",
    "     [0,1,1,-1,0,1,-1,0,0,0],\n",
    "     [0,0,0,0,1,-1,0,1,-1,0],\n",
    "     [0,0,0,0,0,0,1,-1,0,-1]]\n",
    "\n",
    "A = np.array(A)\n",
    "\n",
    "b = [16,13,10,4,12,9,14,7,20,4]\n",
    "\n",
    "c = [0,0,0,0,0,0,0,0,1,1]\n",
    "\n",
    "\n",
    "\n",
    "x = Variable(10)\n",
    "objective = Maximize(sum(x.T*c))\n",
    "constraints = [A * x == 0, x >= 0, x <= b]\n",
    "prob = Problem(objective, constraints)\n",
    "\n",
    "prob.solve(verbose=True, abstol_inacc=1e-9)"
   ]
  },
  {
   "cell_type": "code",
   "execution_count": 38,
   "metadata": {
    "collapsed": false
   },
   "outputs": [
    {
     "data": {
      "text/plain": [
       "array([[  1.29684072e+01],\n",
       "       [  1.00315928e+01],\n",
       "       [  3.85087189e+00],\n",
       "       [  2.88246468e+00],\n",
       "       [  1.20000000e+01],\n",
       "       [  1.52462535e-09],\n",
       "       [  1.10000000e+01],\n",
       "       [  7.00000000e+00],\n",
       "       [  1.90000000e+01],\n",
       "       [  4.00000000e+00]])"
      ]
     },
     "execution_count": 38,
     "metadata": {},
     "output_type": "execute_result"
    }
   ],
   "source": [
    "np.array(x.value)"
   ]
  },
  {
   "cell_type": "code",
   "execution_count": 39,
   "metadata": {
    "collapsed": false
   },
   "outputs": [],
   "source": [
    "from scipy.optimize import linprog"
   ]
  },
  {
   "cell_type": "code",
   "execution_count": 45,
   "metadata": {
    "collapsed": false
   },
   "outputs": [
    {
     "data": {
      "text/plain": [
       "     fun: -23.0\n",
       " message: 'Optimization terminated successfully.'\n",
       "     nit: 7\n",
       "   slack: array([  4.,   2.,  10.,   4.,   0.,   9.,   3.,   0.,   1.,   0.])\n",
       "  status: 0\n",
       " success: True\n",
       "       x: array([ 12.,  11.,   0.,   0.,  12.,   0.,  11.,   7.,  19.,   4.])"
      ]
     },
     "execution_count": 45,
     "metadata": {},
     "output_type": "execute_result"
    }
   ],
   "source": [
    "c = [0,0,0,0,0,0,0,0,-1,-1]\n",
    "\n",
    "linprog(c, A_ub=np.eye(10), b_ub=b, A_eq=A, b_eq=np.zeros(4))"
   ]
  },
  {
   "cell_type": "code",
   "execution_count": null,
   "metadata": {
    "collapsed": true
   },
   "outputs": [],
   "source": []
  }
 ],
 "metadata": {
  "kernelspec": {
   "display_name": "Python [Root]",
   "language": "python",
   "name": "Python [Root]"
  },
  "language_info": {
   "codemirror_mode": {
    "name": "ipython",
    "version": 3
   },
   "file_extension": ".py",
   "mimetype": "text/x-python",
   "name": "python",
   "nbconvert_exporter": "python",
   "pygments_lexer": "ipython3",
   "version": "3.5.2"
  }
 },
 "nbformat": 4,
 "nbformat_minor": 2
}
